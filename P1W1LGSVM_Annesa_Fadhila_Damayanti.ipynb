{
 "cells": [
  {
   "cell_type": "markdown",
   "metadata": {},
   "source": [
    "# Graded Challenge 2\n",
    "\n",
    "Annesa Fadhila Damayanti\n",
    "\n",
    "Batch 11"
   ]
  },
  {
   "cell_type": "markdown",
   "metadata": {},
   "source": [
    "## Bigdata Query from Google Cloud\n",
    "\n",
    "SELECT age, workclass, education, education_num, \n",
    "marital_status, occupation, relationship, race, sex, \n",
    "capital_gain, capital_loss, hours_per_week, native_country, income_bracket\n",
    "\n",
    "FROM `personal-nesa.ml_datasets.census_adult_income_copy`\n",
    "\n",
    "WHERE NOT workclass = '?' AND hours_per_week < 100\n",
    "\n",
    "LIMIT 21967;"
   ]
  },
  {
   "cell_type": "markdown",
   "metadata": {},
   "source": [
    "## Objective"
   ]
  },
  {
   "cell_type": "markdown",
   "metadata": {},
   "source": [
    "Buatlah model Classification menggunakan Logistic Regression dan SVM untuk memprediksi income bracket menggunakan dataset yang sudah kalian simpan."
   ]
  },
  {
   "cell_type": "markdown",
   "metadata": {},
   "source": [
    "## Conceptual Problems"
   ]
  },
  {
   "cell_type": "markdown",
   "metadata": {},
   "source": [
    "1. Apakah yang dimaksud dengan coeficient pada logistic regression?\n",
    "2. Apakah yang dimaksud dengan Support Vector pada SVM?\n",
    "3. Apakah fungsi parameter kernel pada SVM? Jelaskan salah satu kernel yang kalian pahami!\n",
    "\n",
    "----\n",
    "Answer\n",
    "\n",
    "1. Logistic Regression adalah regressi yang memprediksi variabel terikay yang berskala dikotomi. skala dikotomi adalah skala data nominal dengan dua ketegori, misalnya \"Ya dan Tidak, Baik dan Buruk, atau Tinggi dan Rendah\". coefficient pada Logistic Regression disebut juga dengan Odds Ratio. Odds Ratio sering dinyatakan sebagai probabilitas. probabilitas dapat digunakan untuk mengestimasi kemungkinan terjadinya suatu variabel.\n",
    "\n",
    "2. dalam SVM objek yang paling dekat dengan hyperplane disebut support vector. support vector paling sulit diklasifikasikan dikarenakan posisi yang hampir tumpang tindih dengan kelas lain. support vector memiliki sifat yang kritis, support vector dihitung untuk menemukan hyperplane yang paling optimal.\n",
    "\n",
    "3. fungsi kernel adalah memudahkan pengklasifikasi data dengan menemukan hyperplane yang dapat memisahkan dataset secara linear dengan baik. kernel linear digunakan untuk klasifikasi data linear. kernel linear cocok ketika terdapat banyak fitur dikarenakan parameter ke ruang dimensi yang lebih tinggi tidak benar-benar meningkatkan kinerja."
   ]
  },
  {
   "cell_type": "markdown",
   "metadata": {},
   "source": [
    "# Import Libraries"
   ]
  },
  {
   "cell_type": "code",
   "execution_count": 356,
   "metadata": {},
   "outputs": [],
   "source": [
    "import pandas as pd \n",
    "import matplotlib.pyplot as plt\n",
    "import seaborn as sns\n",
    "from sklearn.model_selection import train_test_split\n",
    "from sklearn.metrics import classification_report, accuracy_score, ConfusionMatrixDisplay, confusion_matrix\n",
    "from sklearn.preprocessing import MinMaxScaler\n",
    "from sklearn.preprocessing import OrdinalEncoder\n",
    "from sklearn.linear_model import LogisticRegression\n",
    "from sklearn import svm"
   ]
  },
  {
   "cell_type": "markdown",
   "metadata": {},
   "source": [
    "# Data Loading"
   ]
  },
  {
   "cell_type": "code",
   "execution_count": 303,
   "metadata": {},
   "outputs": [],
   "source": [
    "df = pd.read_csv(r'C:\\Users\\annes\\OneDrive\\Documents\\Hacktive8\\assigments\\Graded_Challenge\\p1---ftds011---g2-nesafadhila\\h8dsft_P1G2_Annesa_Fadhila_Damayanti.csv.csv')"
   ]
  },
  {
   "cell_type": "code",
   "execution_count": 304,
   "metadata": {},
   "outputs": [
    {
     "data": {
      "text/html": [
       "<div>\n",
       "<style scoped>\n",
       "    .dataframe tbody tr th:only-of-type {\n",
       "        vertical-align: middle;\n",
       "    }\n",
       "\n",
       "    .dataframe tbody tr th {\n",
       "        vertical-align: top;\n",
       "    }\n",
       "\n",
       "    .dataframe thead th {\n",
       "        text-align: right;\n",
       "    }\n",
       "</style>\n",
       "<table border=\"1\" class=\"dataframe\">\n",
       "  <thead>\n",
       "    <tr style=\"text-align: right;\">\n",
       "      <th></th>\n",
       "      <th>age</th>\n",
       "      <th>workclass</th>\n",
       "      <th>education</th>\n",
       "      <th>education_num</th>\n",
       "      <th>marital_status</th>\n",
       "      <th>occupation</th>\n",
       "      <th>relationship</th>\n",
       "      <th>race</th>\n",
       "      <th>sex</th>\n",
       "      <th>capital_gain</th>\n",
       "      <th>capital_loss</th>\n",
       "      <th>hours_per_week</th>\n",
       "      <th>native_country</th>\n",
       "      <th>income_bracket</th>\n",
       "    </tr>\n",
       "  </thead>\n",
       "  <tbody>\n",
       "    <tr>\n",
       "      <th>0</th>\n",
       "      <td>39</td>\n",
       "      <td>Private</td>\n",
       "      <td>9th</td>\n",
       "      <td>5</td>\n",
       "      <td>Married-civ-spouse</td>\n",
       "      <td>Other-service</td>\n",
       "      <td>Wife</td>\n",
       "      <td>Black</td>\n",
       "      <td>Female</td>\n",
       "      <td>3411</td>\n",
       "      <td>0</td>\n",
       "      <td>34</td>\n",
       "      <td>United-States</td>\n",
       "      <td>&lt;=50K</td>\n",
       "    </tr>\n",
       "    <tr>\n",
       "      <th>1</th>\n",
       "      <td>72</td>\n",
       "      <td>Private</td>\n",
       "      <td>9th</td>\n",
       "      <td>5</td>\n",
       "      <td>Married-civ-spouse</td>\n",
       "      <td>Exec-managerial</td>\n",
       "      <td>Wife</td>\n",
       "      <td>Asian-Pac-Islander</td>\n",
       "      <td>Female</td>\n",
       "      <td>0</td>\n",
       "      <td>0</td>\n",
       "      <td>48</td>\n",
       "      <td>United-States</td>\n",
       "      <td>&gt;50K</td>\n",
       "    </tr>\n",
       "    <tr>\n",
       "      <th>2</th>\n",
       "      <td>45</td>\n",
       "      <td>Private</td>\n",
       "      <td>9th</td>\n",
       "      <td>5</td>\n",
       "      <td>Married-civ-spouse</td>\n",
       "      <td>Machine-op-inspct</td>\n",
       "      <td>Wife</td>\n",
       "      <td>White</td>\n",
       "      <td>Female</td>\n",
       "      <td>0</td>\n",
       "      <td>0</td>\n",
       "      <td>40</td>\n",
       "      <td>United-States</td>\n",
       "      <td>&gt;50K</td>\n",
       "    </tr>\n",
       "    <tr>\n",
       "      <th>3</th>\n",
       "      <td>31</td>\n",
       "      <td>Private</td>\n",
       "      <td>9th</td>\n",
       "      <td>5</td>\n",
       "      <td>Married-civ-spouse</td>\n",
       "      <td>Exec-managerial</td>\n",
       "      <td>Wife</td>\n",
       "      <td>White</td>\n",
       "      <td>Female</td>\n",
       "      <td>0</td>\n",
       "      <td>0</td>\n",
       "      <td>40</td>\n",
       "      <td>United-States</td>\n",
       "      <td>&lt;=50K</td>\n",
       "    </tr>\n",
       "    <tr>\n",
       "      <th>4</th>\n",
       "      <td>55</td>\n",
       "      <td>Private</td>\n",
       "      <td>9th</td>\n",
       "      <td>5</td>\n",
       "      <td>Married-civ-spouse</td>\n",
       "      <td>Tech-support</td>\n",
       "      <td>Wife</td>\n",
       "      <td>White</td>\n",
       "      <td>Female</td>\n",
       "      <td>0</td>\n",
       "      <td>0</td>\n",
       "      <td>23</td>\n",
       "      <td>United-States</td>\n",
       "      <td>&lt;=50K</td>\n",
       "    </tr>\n",
       "  </tbody>\n",
       "</table>\n",
       "</div>"
      ],
      "text/plain": [
       "   age workclass education  education_num       marital_status  \\\n",
       "0   39   Private       9th              5   Married-civ-spouse   \n",
       "1   72   Private       9th              5   Married-civ-spouse   \n",
       "2   45   Private       9th              5   Married-civ-spouse   \n",
       "3   31   Private       9th              5   Married-civ-spouse   \n",
       "4   55   Private       9th              5   Married-civ-spouse   \n",
       "\n",
       "           occupation relationship                 race      sex  \\\n",
       "0       Other-service         Wife                Black   Female   \n",
       "1     Exec-managerial         Wife   Asian-Pac-Islander   Female   \n",
       "2   Machine-op-inspct         Wife                White   Female   \n",
       "3     Exec-managerial         Wife                White   Female   \n",
       "4        Tech-support         Wife                White   Female   \n",
       "\n",
       "   capital_gain  capital_loss  hours_per_week  native_country income_bracket  \n",
       "0          3411             0              34   United-States          <=50K  \n",
       "1             0             0              48   United-States           >50K  \n",
       "2             0             0              40   United-States           >50K  \n",
       "3             0             0              40   United-States          <=50K  \n",
       "4             0             0              23   United-States          <=50K  "
      ]
     },
     "execution_count": 304,
     "metadata": {},
     "output_type": "execute_result"
    }
   ],
   "source": [
    "df.head()"
   ]
  },
  {
   "cell_type": "code",
   "execution_count": 305,
   "metadata": {},
   "outputs": [
    {
     "data": {
      "text/html": [
       "<div>\n",
       "<style scoped>\n",
       "    .dataframe tbody tr th:only-of-type {\n",
       "        vertical-align: middle;\n",
       "    }\n",
       "\n",
       "    .dataframe tbody tr th {\n",
       "        vertical-align: top;\n",
       "    }\n",
       "\n",
       "    .dataframe thead th {\n",
       "        text-align: right;\n",
       "    }\n",
       "</style>\n",
       "<table border=\"1\" class=\"dataframe\">\n",
       "  <thead>\n",
       "    <tr style=\"text-align: right;\">\n",
       "      <th></th>\n",
       "      <th>age</th>\n",
       "      <th>workclass</th>\n",
       "      <th>education</th>\n",
       "      <th>education_num</th>\n",
       "      <th>marital_status</th>\n",
       "      <th>occupation</th>\n",
       "      <th>relationship</th>\n",
       "      <th>race</th>\n",
       "      <th>sex</th>\n",
       "      <th>capital_gain</th>\n",
       "      <th>capital_loss</th>\n",
       "      <th>hours_per_week</th>\n",
       "      <th>native_country</th>\n",
       "      <th>income_bracket</th>\n",
       "    </tr>\n",
       "  </thead>\n",
       "  <tbody>\n",
       "    <tr>\n",
       "      <th>21962</th>\n",
       "      <td>56</td>\n",
       "      <td>Private</td>\n",
       "      <td>9th</td>\n",
       "      <td>5</td>\n",
       "      <td>Divorced</td>\n",
       "      <td>Craft-repair</td>\n",
       "      <td>Not-in-family</td>\n",
       "      <td>White</td>\n",
       "      <td>Male</td>\n",
       "      <td>0</td>\n",
       "      <td>0</td>\n",
       "      <td>40</td>\n",
       "      <td>United-States</td>\n",
       "      <td>&lt;=50K</td>\n",
       "    </tr>\n",
       "    <tr>\n",
       "      <th>21963</th>\n",
       "      <td>40</td>\n",
       "      <td>Private</td>\n",
       "      <td>9th</td>\n",
       "      <td>5</td>\n",
       "      <td>Divorced</td>\n",
       "      <td>Other-service</td>\n",
       "      <td>Not-in-family</td>\n",
       "      <td>White</td>\n",
       "      <td>Female</td>\n",
       "      <td>0</td>\n",
       "      <td>0</td>\n",
       "      <td>40</td>\n",
       "      <td>United-States</td>\n",
       "      <td>&lt;=50K</td>\n",
       "    </tr>\n",
       "    <tr>\n",
       "      <th>21964</th>\n",
       "      <td>25</td>\n",
       "      <td>Self-emp-not-inc</td>\n",
       "      <td>9th</td>\n",
       "      <td>5</td>\n",
       "      <td>Never-married</td>\n",
       "      <td>Craft-repair</td>\n",
       "      <td>Not-in-family</td>\n",
       "      <td>White</td>\n",
       "      <td>Male</td>\n",
       "      <td>0</td>\n",
       "      <td>0</td>\n",
       "      <td>15</td>\n",
       "      <td>United-States</td>\n",
       "      <td>&lt;=50K</td>\n",
       "    </tr>\n",
       "    <tr>\n",
       "      <th>21965</th>\n",
       "      <td>33</td>\n",
       "      <td>Private</td>\n",
       "      <td>9th</td>\n",
       "      <td>5</td>\n",
       "      <td>Divorced</td>\n",
       "      <td>Machine-op-inspct</td>\n",
       "      <td>Not-in-family</td>\n",
       "      <td>White</td>\n",
       "      <td>Male</td>\n",
       "      <td>0</td>\n",
       "      <td>0</td>\n",
       "      <td>35</td>\n",
       "      <td>United-States</td>\n",
       "      <td>&lt;=50K</td>\n",
       "    </tr>\n",
       "    <tr>\n",
       "      <th>21966</th>\n",
       "      <td>50</td>\n",
       "      <td>Private</td>\n",
       "      <td>9th</td>\n",
       "      <td>5</td>\n",
       "      <td>Divorced</td>\n",
       "      <td>Transport-moving</td>\n",
       "      <td>Not-in-family</td>\n",
       "      <td>White</td>\n",
       "      <td>Male</td>\n",
       "      <td>0</td>\n",
       "      <td>0</td>\n",
       "      <td>50</td>\n",
       "      <td>United-States</td>\n",
       "      <td>&lt;=50K</td>\n",
       "    </tr>\n",
       "  </tbody>\n",
       "</table>\n",
       "</div>"
      ],
      "text/plain": [
       "       age          workclass education  education_num  marital_status  \\\n",
       "21962   56            Private       9th              5        Divorced   \n",
       "21963   40            Private       9th              5        Divorced   \n",
       "21964   25   Self-emp-not-inc       9th              5   Never-married   \n",
       "21965   33            Private       9th              5        Divorced   \n",
       "21966   50            Private       9th              5        Divorced   \n",
       "\n",
       "               occupation    relationship    race      sex  capital_gain  \\\n",
       "21962        Craft-repair   Not-in-family   White     Male             0   \n",
       "21963       Other-service   Not-in-family   White   Female             0   \n",
       "21964        Craft-repair   Not-in-family   White     Male             0   \n",
       "21965   Machine-op-inspct   Not-in-family   White     Male             0   \n",
       "21966    Transport-moving   Not-in-family   White     Male             0   \n",
       "\n",
       "       capital_loss  hours_per_week  native_country income_bracket  \n",
       "21962             0              40   United-States          <=50K  \n",
       "21963             0              40   United-States          <=50K  \n",
       "21964             0              15   United-States          <=50K  \n",
       "21965             0              35   United-States          <=50K  \n",
       "21966             0              50   United-States          <=50K  "
      ]
     },
     "execution_count": 305,
     "metadata": {},
     "output_type": "execute_result"
    }
   ],
   "source": [
    "df.tail()"
   ]
  },
  {
   "cell_type": "code",
   "execution_count": 306,
   "metadata": {},
   "outputs": [
    {
     "name": "stdout",
     "output_type": "stream",
     "text": [
      "<class 'pandas.core.frame.DataFrame'>\n",
      "RangeIndex: 21967 entries, 0 to 21966\n",
      "Data columns (total 14 columns):\n",
      " #   Column          Non-Null Count  Dtype \n",
      "---  ------          --------------  ----- \n",
      " 0   age             21967 non-null  int64 \n",
      " 1   workclass       21967 non-null  object\n",
      " 2   education       21967 non-null  object\n",
      " 3   education_num   21967 non-null  int64 \n",
      " 4   marital_status  21967 non-null  object\n",
      " 5   occupation      21967 non-null  object\n",
      " 6   relationship    21967 non-null  object\n",
      " 7   race            21967 non-null  object\n",
      " 8   sex             21967 non-null  object\n",
      " 9   capital_gain    21967 non-null  int64 \n",
      " 10  capital_loss    21967 non-null  int64 \n",
      " 11  hours_per_week  21967 non-null  int64 \n",
      " 12  native_country  21967 non-null  object\n",
      " 13  income_bracket  21967 non-null  object\n",
      "dtypes: int64(5), object(9)\n",
      "memory usage: 2.3+ MB\n"
     ]
    }
   ],
   "source": [
    "df.info()"
   ]
  },
  {
   "cell_type": "markdown",
   "metadata": {},
   "source": [
    "There is no Missing Values in dataset df."
   ]
  },
  {
   "cell_type": "code",
   "execution_count": 307,
   "metadata": {},
   "outputs": [
    {
     "data": {
      "text/html": [
       "<div>\n",
       "<style scoped>\n",
       "    .dataframe tbody tr th:only-of-type {\n",
       "        vertical-align: middle;\n",
       "    }\n",
       "\n",
       "    .dataframe tbody tr th {\n",
       "        vertical-align: top;\n",
       "    }\n",
       "\n",
       "    .dataframe thead th {\n",
       "        text-align: right;\n",
       "    }\n",
       "</style>\n",
       "<table border=\"1\" class=\"dataframe\">\n",
       "  <thead>\n",
       "    <tr style=\"text-align: right;\">\n",
       "      <th></th>\n",
       "      <th>age</th>\n",
       "      <th>education_num</th>\n",
       "      <th>capital_gain</th>\n",
       "      <th>capital_loss</th>\n",
       "      <th>hours_per_week</th>\n",
       "    </tr>\n",
       "  </thead>\n",
       "  <tbody>\n",
       "    <tr>\n",
       "      <th>count</th>\n",
       "      <td>21967.000000</td>\n",
       "      <td>21967.000000</td>\n",
       "      <td>21967.000000</td>\n",
       "      <td>21967.000000</td>\n",
       "      <td>21967.000000</td>\n",
       "    </tr>\n",
       "    <tr>\n",
       "      <th>mean</th>\n",
       "      <td>38.862339</td>\n",
       "      <td>10.091455</td>\n",
       "      <td>1267.779169</td>\n",
       "      <td>94.853963</td>\n",
       "      <td>41.030409</td>\n",
       "    </tr>\n",
       "    <tr>\n",
       "      <th>std</th>\n",
       "      <td>12.985655</td>\n",
       "      <td>2.550012</td>\n",
       "      <td>8186.229692</td>\n",
       "      <td>417.242845</td>\n",
       "      <td>12.246861</td>\n",
       "    </tr>\n",
       "    <tr>\n",
       "      <th>min</th>\n",
       "      <td>17.000000</td>\n",
       "      <td>1.000000</td>\n",
       "      <td>0.000000</td>\n",
       "      <td>0.000000</td>\n",
       "      <td>1.000000</td>\n",
       "    </tr>\n",
       "    <tr>\n",
       "      <th>25%</th>\n",
       "      <td>29.000000</td>\n",
       "      <td>9.000000</td>\n",
       "      <td>0.000000</td>\n",
       "      <td>0.000000</td>\n",
       "      <td>40.000000</td>\n",
       "    </tr>\n",
       "    <tr>\n",
       "      <th>50%</th>\n",
       "      <td>38.000000</td>\n",
       "      <td>10.000000</td>\n",
       "      <td>0.000000</td>\n",
       "      <td>0.000000</td>\n",
       "      <td>40.000000</td>\n",
       "    </tr>\n",
       "    <tr>\n",
       "      <th>75%</th>\n",
       "      <td>48.000000</td>\n",
       "      <td>12.000000</td>\n",
       "      <td>0.000000</td>\n",
       "      <td>0.000000</td>\n",
       "      <td>45.000000</td>\n",
       "    </tr>\n",
       "    <tr>\n",
       "      <th>max</th>\n",
       "      <td>90.000000</td>\n",
       "      <td>16.000000</td>\n",
       "      <td>99999.000000</td>\n",
       "      <td>3900.000000</td>\n",
       "      <td>99.000000</td>\n",
       "    </tr>\n",
       "  </tbody>\n",
       "</table>\n",
       "</div>"
      ],
      "text/plain": [
       "                age  education_num  capital_gain  capital_loss  hours_per_week\n",
       "count  21967.000000   21967.000000  21967.000000  21967.000000    21967.000000\n",
       "mean      38.862339      10.091455   1267.779169     94.853963       41.030409\n",
       "std       12.985655       2.550012   8186.229692    417.242845       12.246861\n",
       "min       17.000000       1.000000      0.000000      0.000000        1.000000\n",
       "25%       29.000000       9.000000      0.000000      0.000000       40.000000\n",
       "50%       38.000000      10.000000      0.000000      0.000000       40.000000\n",
       "75%       48.000000      12.000000      0.000000      0.000000       45.000000\n",
       "max       90.000000      16.000000  99999.000000   3900.000000       99.000000"
      ]
     },
     "execution_count": 307,
     "metadata": {},
     "output_type": "execute_result"
    }
   ],
   "source": [
    "df.describe()"
   ]
  },
  {
   "cell_type": "markdown",
   "metadata": {},
   "source": [
    "pada tabel diatas dapat dilihat bahwa rata-rata pekerja berumur 38 tahun dengan rata-rata bekerja 41 jam/minggu"
   ]
  },
  {
   "cell_type": "markdown",
   "metadata": {},
   "source": [
    "# Exploratory Data Analysis (EDA)"
   ]
  },
  {
   "cell_type": "code",
   "execution_count": 308,
   "metadata": {},
   "outputs": [],
   "source": [
    "dfc = df.copy()"
   ]
  },
  {
   "cell_type": "code",
   "execution_count": 309,
   "metadata": {},
   "outputs": [
    {
     "data": {
      "text/plain": [
       "array([39, 72, 45, 31, 55, 30, 46, 28, 37, 40, 27, 70, 77, 38, 41, 52, 36,\n",
       "       58, 48, 22, 29, 26, 25, 24, 32, 81, 56, 59, 42, 47, 60, 43, 54, 49,\n",
       "       44, 35, 53, 61, 21, 33, 23, 50, 34, 64, 19, 69, 71, 51, 63, 20, 67,\n",
       "       57, 62, 66, 18, 73, 90, 65, 76, 17, 68, 83, 74, 75, 79, 78, 80, 82,\n",
       "       84, 85, 88], dtype=int64)"
      ]
     },
     "execution_count": 309,
     "metadata": {},
     "output_type": "execute_result"
    }
   ],
   "source": [
    "df['age'].unique()"
   ]
  },
  {
   "cell_type": "code",
   "execution_count": 310,
   "metadata": {},
   "outputs": [
    {
     "data": {
      "text/plain": [
       "array([' Private', ' Self-emp-inc', ' Local-gov', ' Self-emp-not-inc',\n",
       "       ' Federal-gov', ' State-gov', ' Without-pay', ' Never-worked'],\n",
       "      dtype=object)"
      ]
     },
     "execution_count": 310,
     "metadata": {},
     "output_type": "execute_result"
    }
   ],
   "source": [
    "df['workclass'].unique()"
   ]
  },
  {
   "cell_type": "code",
   "execution_count": 311,
   "metadata": {},
   "outputs": [
    {
     "data": {
      "text/plain": [
       "array([' 9th', ' 10th', ' 11th', ' 12th', ' 1st-4th', ' 5th-6th',\n",
       "       ' 7th-8th', ' HS-grad', ' Masters', ' Assoc-voc', ' Bachelors',\n",
       "       ' Doctorate', ' Preschool', ' Assoc-acdm', ' Prof-school',\n",
       "       ' Some-college'], dtype=object)"
      ]
     },
     "execution_count": 311,
     "metadata": {},
     "output_type": "execute_result"
    }
   ],
   "source": [
    "df['education'].unique()"
   ]
  },
  {
   "cell_type": "code",
   "execution_count": 312,
   "metadata": {},
   "outputs": [
    {
     "data": {
      "text/plain": [
       "array([' Married-civ-spouse', ' Married-AF-spouse', ' Never-married',\n",
       "       ' Divorced', ' Married-spouse-absent', ' Separated', ' Widowed'],\n",
       "      dtype=object)"
      ]
     },
     "execution_count": 312,
     "metadata": {},
     "output_type": "execute_result"
    }
   ],
   "source": [
    "df['marital_status'].unique()"
   ]
  },
  {
   "cell_type": "code",
   "execution_count": 313,
   "metadata": {},
   "outputs": [
    {
     "data": {
      "text/plain": [
       "array([' Other-service', ' Exec-managerial', ' Machine-op-inspct',\n",
       "       ' Tech-support', ' Adm-clerical', ' Farming-fishing',\n",
       "       ' Priv-house-serv', ' Sales', ' Protective-serv',\n",
       "       ' Transport-moving', ' Handlers-cleaners', ' Craft-repair',\n",
       "       ' Prof-specialty', ' ?', ' Armed-Forces'], dtype=object)"
      ]
     },
     "execution_count": 313,
     "metadata": {},
     "output_type": "execute_result"
    }
   ],
   "source": [
    "df['occupation'].unique()"
   ]
  },
  {
   "cell_type": "code",
   "execution_count": 314,
   "metadata": {},
   "outputs": [
    {
     "data": {
      "text/plain": [
       "array([' Wife', ' Husband', ' Own-child', ' Unmarried', ' Not-in-family'],\n",
       "      dtype=object)"
      ]
     },
     "execution_count": 314,
     "metadata": {},
     "output_type": "execute_result"
    }
   ],
   "source": [
    "df['relationship'].unique()"
   ]
  },
  {
   "cell_type": "code",
   "execution_count": 315,
   "metadata": {},
   "outputs": [
    {
     "data": {
      "text/plain": [
       "array([' Black', ' Asian-Pac-Islander', ' White', ' Amer-Indian-Eskimo',\n",
       "       ' Other'], dtype=object)"
      ]
     },
     "execution_count": 315,
     "metadata": {},
     "output_type": "execute_result"
    }
   ],
   "source": [
    "df['race'].unique()"
   ]
  },
  {
   "cell_type": "code",
   "execution_count": 316,
   "metadata": {},
   "outputs": [
    {
     "data": {
      "text/plain": [
       "array([ 3411,     0,  2653,  2635,  2936,  3908,  5178,  2829,  4508,\n",
       "        3103,  5013, 15024,  7688, 20051, 22040,  4064,  2414,  3471,\n",
       "        4386,  7298,  3464,  3942,  3137, 99999,  2407,  2885, 10566,\n",
       "        9386,  1409,  3781,  1424,  2228,  2580,  2105,  6418,  1797,\n",
       "        2961,  6767,  2290,  3432,  3818, 10605,  3456,  6514, 41310,\n",
       "        5556,  1455,  1173,  4931,  1055,   594,  2907,  2176, 14344,\n",
       "        6849,  4101,  2597, 10520,  8614, 34095,  2174,  4650,  1831,\n",
       "        4416, 14084,  3325,  3674,   114,  2354,  1506,  2329, 27828,\n",
       "        6497,  2202,  4787,  2463,  3418,  5060,   914,  7430,  1471,\n",
       "        2964,  2977,  4865,  1151,  2538,  3887,  5455,  5721,  7443,\n",
       "        2036,  1848,  9562,  2346,  4934,  2387, 25236, 15020,  7896,\n",
       "        4687,  3273,  6723,  6360,  2062], dtype=int64)"
      ]
     },
     "execution_count": 316,
     "metadata": {},
     "output_type": "execute_result"
    }
   ],
   "source": [
    "df['capital_gain'].unique()"
   ]
  },
  {
   "cell_type": "code",
   "execution_count": 317,
   "metadata": {},
   "outputs": [
    {
     "data": {
      "text/plain": [
       "array([   0, 1977, 2129, 1573, 1740, 2377, 1887, 2179, 2415, 1579, 1848,\n",
       "       2057, 1628, 1902, 1485, 2267, 1258, 1672, 1651, 2051, 2042, 2002,\n",
       "       1735, 2603, 1411, 2352, 2174, 2149, 1825, 2457,  419, 2467, 2392,\n",
       "       1648, 2246, 1539, 1844, 1719, 1602, 1762, 1721, 1138, 1669, 1590,\n",
       "       1504, 1594, 1876, 2258, 2001, 1408, 1980, 1974, 1340, 2231, 1092,\n",
       "       2339, 1564, 1726, 2205, 1380, 1617, 3900,  625, 2559, 3770, 2238,\n",
       "        880,  974,  653, 2206,  323, 2754, 1741,  213, 2547, 1755, 2201,\n",
       "       2472, 3004, 2080, 1816], dtype=int64)"
      ]
     },
     "execution_count": 317,
     "metadata": {},
     "output_type": "execute_result"
    }
   ],
   "source": [
    "df['capital_loss'].unique()"
   ]
  },
  {
   "cell_type": "code",
   "execution_count": 318,
   "metadata": {},
   "outputs": [
    {
     "data": {
      "text/plain": [
       "array([34, 48, 40, 23, 50, 37, 42, 10, 24, 70,  8, 32, 35, 28, 30, 36, 25,\n",
       "       43,  6,  5, 60, 20, 14, 33, 38, 45, 72, 15, 99, 55, 75, 53, 54, 16,\n",
       "       56, 21, 22, 52,  2, 12, 18, 17, 46, 27,  7, 19, 26,  4, 65, 44, 80,\n",
       "       90, 13, 47, 39,  1, 84, 49, 58, 41, 59, 88, 98, 85, 96, 67, 51, 31,\n",
       "       91, 63, 64, 78, 66,  3, 68, 89, 94, 57, 97, 62, 73, 11, 76, 61, 77,\n",
       "       29,  9, 86, 92, 74, 95, 81], dtype=int64)"
      ]
     },
     "execution_count": 318,
     "metadata": {},
     "output_type": "execute_result"
    }
   ],
   "source": [
    "df['hours_per_week'].unique()"
   ]
  },
  {
   "cell_type": "code",
   "execution_count": 319,
   "metadata": {},
   "outputs": [
    {
     "data": {
      "text/plain": [
       "array([' United-States', ' Portugal', ' Yugoslavia', ' Haiti',\n",
       "       ' Dominican-Republic', ' Mexico', ' Guatemala', ' ?', ' Japan',\n",
       "       ' Hong', ' Philippines', ' El-Salvador', ' Vietnam', ' Italy',\n",
       "       ' Laos', ' Canada', ' Puerto-Rico', ' Jamaica', ' South',\n",
       "       ' Trinadad&Tobago', ' Greece', ' Peru', ' Iran', ' Germany',\n",
       "       ' Columbia', ' Scotland', ' China', ' Nicaragua', ' Cuba',\n",
       "       ' England', ' Poland', ' Outlying-US(Guam-USVI-etc)', ' Taiwan',\n",
       "       ' Hungary', ' India', ' Ecuador', ' Thailand', ' Cambodia',\n",
       "       ' Honduras', ' France', ' Ireland'], dtype=object)"
      ]
     },
     "execution_count": 319,
     "metadata": {},
     "output_type": "execute_result"
    }
   ],
   "source": [
    "df['native_country'].unique()"
   ]
  },
  {
   "cell_type": "code",
   "execution_count": 320,
   "metadata": {},
   "outputs": [
    {
     "data": {
      "text/plain": [
       "<AxesSubplot:xlabel='sex', ylabel='count'>"
      ]
     },
     "execution_count": 320,
     "metadata": {},
     "output_type": "execute_result"
    },
    {
     "data": {
      "image/png": "[encoded data removed]",
      "text/plain": [
       "<Figure size 432x288 with 1 Axes>"
      ]
     },
     "metadata": {
      "needs_background": "light"
     },
     "output_type": "display_data"
    }
   ],
   "source": [
    "sns.countplot(data=df,x='sex')"
   ]
  },
  {
   "cell_type": "markdown",
   "metadata": {},
   "source": [
    "from this plot, we can see that worker male is more than worker female.\n",
    "mungkin banyak perempuan yang menjadi ibu rumah tangga saat sudah menikah, dan menjadikan laki-laki kepala rumah tangga yang wajib untuk bekerja untuk memenuhi kebutuhan keluarga."
   ]
  },
  {
   "cell_type": "code",
   "execution_count": 321,
   "metadata": {},
   "outputs": [
    {
     "data": {
      "text/plain": [
       "<AxesSubplot:xlabel='relationship', ylabel='count'>"
      ]
     },
     "execution_count": 321,
     "metadata": {},
     "output_type": "execute_result"
    },
    {
     "data": {
      "image/png": "[encoded data removed]",
      "text/plain": [
       "<Figure size 432x288 with 1 Axes>"
      ]
     },
     "metadata": {
      "needs_background": "light"
     },
     "output_type": "display_data"
    }
   ],
   "source": [
    "sns.countplot(data=df,x='relationship')"
   ]
  },
  {
   "cell_type": "markdown",
   "metadata": {},
   "source": [
    "seperti yang saya asumsikan bahwa banyak laki-laki yang menikah yang bekerja. "
   ]
  },
  {
   "cell_type": "code",
   "execution_count": 322,
   "metadata": {},
   "outputs": [
    {
     "name": "stdout",
     "output_type": "stream",
     "text": [
      "Sebelum di Encode\n"
     ]
    },
    {
     "data": {
      "image/png": "[encoded data removed]",
      "text/plain": [
       "<Figure size 432x288 with 2 Axes>"
      ]
     },
     "metadata": {
      "needs_background": "light"
     },
     "output_type": "display_data"
    }
   ],
   "source": [
    "sns.heatmap(df.corr(),annot=True)\n",
    "print('Sebelum di Encode')"
   ]
  },
  {
   "cell_type": "markdown",
   "metadata": {},
   "source": [
    "sebelum di encode, terlihat bahwa capital gain berpengaruh dengan hour per week dan juga capital loss berpengaruh dengan education num"
   ]
  },
  {
   "cell_type": "code",
   "execution_count": 323,
   "metadata": {},
   "outputs": [],
   "source": [
    "## get data inference\n",
    "df_inf = df.sample(20, random_state=400)"
   ]
  },
  {
   "cell_type": "code",
   "execution_count": 324,
   "metadata": {},
   "outputs": [],
   "source": [
    "df_real = df.drop(df_inf.index)\n",
    "df_real.reset_index(drop=True, inplace=True)\n",
    "df_inf.reset_index(drop=True, inplace=True)"
   ]
  },
  {
   "cell_type": "code",
   "execution_count": 325,
   "metadata": {},
   "outputs": [],
   "source": [
    "encode = OrdinalEncoder()\n",
    "df_encode = encode.fit_transform(df_real)"
   ]
  },
  {
   "cell_type": "code",
   "execution_count": 326,
   "metadata": {},
   "outputs": [
    {
     "data": {
      "text/html": [
       "<div>\n",
       "<style scoped>\n",
       "    .dataframe tbody tr th:only-of-type {\n",
       "        vertical-align: middle;\n",
       "    }\n",
       "\n",
       "    .dataframe tbody tr th {\n",
       "        vertical-align: top;\n",
       "    }\n",
       "\n",
       "    .dataframe thead th {\n",
       "        text-align: right;\n",
       "    }\n",
       "</style>\n",
       "<table border=\"1\" class=\"dataframe\">\n",
       "  <thead>\n",
       "    <tr style=\"text-align: right;\">\n",
       "      <th></th>\n",
       "      <th>0</th>\n",
       "      <th>1</th>\n",
       "      <th>2</th>\n",
       "      <th>3</th>\n",
       "      <th>4</th>\n",
       "      <th>5</th>\n",
       "      <th>6</th>\n",
       "      <th>7</th>\n",
       "      <th>8</th>\n",
       "      <th>9</th>\n",
       "      <th>10</th>\n",
       "      <th>11</th>\n",
       "      <th>12</th>\n",
       "      <th>13</th>\n",
       "    </tr>\n",
       "  </thead>\n",
       "  <tbody>\n",
       "    <tr>\n",
       "      <th>0</th>\n",
       "      <td>22.0</td>\n",
       "      <td>3.0</td>\n",
       "      <td>6.0</td>\n",
       "      <td>4.0</td>\n",
       "      <td>2.0</td>\n",
       "      <td>8.0</td>\n",
       "      <td>4.0</td>\n",
       "      <td>2.0</td>\n",
       "      <td>0.0</td>\n",
       "      <td>46.0</td>\n",
       "      <td>0.0</td>\n",
       "      <td>33.0</td>\n",
       "      <td>38.0</td>\n",
       "      <td>0.0</td>\n",
       "    </tr>\n",
       "    <tr>\n",
       "      <th>1</th>\n",
       "      <td>55.0</td>\n",
       "      <td>3.0</td>\n",
       "      <td>6.0</td>\n",
       "      <td>4.0</td>\n",
       "      <td>2.0</td>\n",
       "      <td>4.0</td>\n",
       "      <td>4.0</td>\n",
       "      <td>1.0</td>\n",
       "      <td>0.0</td>\n",
       "      <td>0.0</td>\n",
       "      <td>0.0</td>\n",
       "      <td>47.0</td>\n",
       "      <td>38.0</td>\n",
       "      <td>1.0</td>\n",
       "    </tr>\n",
       "    <tr>\n",
       "      <th>2</th>\n",
       "      <td>28.0</td>\n",
       "      <td>3.0</td>\n",
       "      <td>6.0</td>\n",
       "      <td>4.0</td>\n",
       "      <td>2.0</td>\n",
       "      <td>7.0</td>\n",
       "      <td>4.0</td>\n",
       "      <td>4.0</td>\n",
       "      <td>0.0</td>\n",
       "      <td>0.0</td>\n",
       "      <td>0.0</td>\n",
       "      <td>39.0</td>\n",
       "      <td>38.0</td>\n",
       "      <td>1.0</td>\n",
       "    </tr>\n",
       "    <tr>\n",
       "      <th>3</th>\n",
       "      <td>14.0</td>\n",
       "      <td>3.0</td>\n",
       "      <td>6.0</td>\n",
       "      <td>4.0</td>\n",
       "      <td>2.0</td>\n",
       "      <td>4.0</td>\n",
       "      <td>4.0</td>\n",
       "      <td>4.0</td>\n",
       "      <td>0.0</td>\n",
       "      <td>0.0</td>\n",
       "      <td>0.0</td>\n",
       "      <td>39.0</td>\n",
       "      <td>38.0</td>\n",
       "      <td>0.0</td>\n",
       "    </tr>\n",
       "    <tr>\n",
       "      <th>4</th>\n",
       "      <td>38.0</td>\n",
       "      <td>3.0</td>\n",
       "      <td>6.0</td>\n",
       "      <td>4.0</td>\n",
       "      <td>2.0</td>\n",
       "      <td>13.0</td>\n",
       "      <td>4.0</td>\n",
       "      <td>4.0</td>\n",
       "      <td>0.0</td>\n",
       "      <td>0.0</td>\n",
       "      <td>0.0</td>\n",
       "      <td>22.0</td>\n",
       "      <td>38.0</td>\n",
       "      <td>0.0</td>\n",
       "    </tr>\n",
       "    <tr>\n",
       "      <th>...</th>\n",
       "      <td>...</td>\n",
       "      <td>...</td>\n",
       "      <td>...</td>\n",
       "      <td>...</td>\n",
       "      <td>...</td>\n",
       "      <td>...</td>\n",
       "      <td>...</td>\n",
       "      <td>...</td>\n",
       "      <td>...</td>\n",
       "      <td>...</td>\n",
       "      <td>...</td>\n",
       "      <td>...</td>\n",
       "      <td>...</td>\n",
       "      <td>...</td>\n",
       "    </tr>\n",
       "    <tr>\n",
       "      <th>21942</th>\n",
       "      <td>39.0</td>\n",
       "      <td>3.0</td>\n",
       "      <td>6.0</td>\n",
       "      <td>4.0</td>\n",
       "      <td>0.0</td>\n",
       "      <td>3.0</td>\n",
       "      <td>1.0</td>\n",
       "      <td>4.0</td>\n",
       "      <td>1.0</td>\n",
       "      <td>0.0</td>\n",
       "      <td>0.0</td>\n",
       "      <td>39.0</td>\n",
       "      <td>38.0</td>\n",
       "      <td>0.0</td>\n",
       "    </tr>\n",
       "    <tr>\n",
       "      <th>21943</th>\n",
       "      <td>23.0</td>\n",
       "      <td>3.0</td>\n",
       "      <td>6.0</td>\n",
       "      <td>4.0</td>\n",
       "      <td>0.0</td>\n",
       "      <td>8.0</td>\n",
       "      <td>1.0</td>\n",
       "      <td>4.0</td>\n",
       "      <td>0.0</td>\n",
       "      <td>0.0</td>\n",
       "      <td>0.0</td>\n",
       "      <td>39.0</td>\n",
       "      <td>38.0</td>\n",
       "      <td>0.0</td>\n",
       "    </tr>\n",
       "    <tr>\n",
       "      <th>21944</th>\n",
       "      <td>8.0</td>\n",
       "      <td>5.0</td>\n",
       "      <td>6.0</td>\n",
       "      <td>4.0</td>\n",
       "      <td>4.0</td>\n",
       "      <td>3.0</td>\n",
       "      <td>1.0</td>\n",
       "      <td>4.0</td>\n",
       "      <td>1.0</td>\n",
       "      <td>0.0</td>\n",
       "      <td>0.0</td>\n",
       "      <td>14.0</td>\n",
       "      <td>38.0</td>\n",
       "      <td>0.0</td>\n",
       "    </tr>\n",
       "    <tr>\n",
       "      <th>21945</th>\n",
       "      <td>16.0</td>\n",
       "      <td>3.0</td>\n",
       "      <td>6.0</td>\n",
       "      <td>4.0</td>\n",
       "      <td>0.0</td>\n",
       "      <td>7.0</td>\n",
       "      <td>1.0</td>\n",
       "      <td>4.0</td>\n",
       "      <td>1.0</td>\n",
       "      <td>0.0</td>\n",
       "      <td>0.0</td>\n",
       "      <td>34.0</td>\n",
       "      <td>38.0</td>\n",
       "      <td>0.0</td>\n",
       "    </tr>\n",
       "    <tr>\n",
       "      <th>21946</th>\n",
       "      <td>33.0</td>\n",
       "      <td>3.0</td>\n",
       "      <td>6.0</td>\n",
       "      <td>4.0</td>\n",
       "      <td>0.0</td>\n",
       "      <td>14.0</td>\n",
       "      <td>1.0</td>\n",
       "      <td>4.0</td>\n",
       "      <td>1.0</td>\n",
       "      <td>0.0</td>\n",
       "      <td>0.0</td>\n",
       "      <td>49.0</td>\n",
       "      <td>38.0</td>\n",
       "      <td>0.0</td>\n",
       "    </tr>\n",
       "  </tbody>\n",
       "</table>\n",
       "<p>21947 rows × 14 columns</p>\n",
       "</div>"
      ],
      "text/plain": [
       "         0    1    2    3    4     5    6    7    8     9    10    11    12  \\\n",
       "0      22.0  3.0  6.0  4.0  2.0   8.0  4.0  2.0  0.0  46.0  0.0  33.0  38.0   \n",
       "1      55.0  3.0  6.0  4.0  2.0   4.0  4.0  1.0  0.0   0.0  0.0  47.0  38.0   \n",
       "2      28.0  3.0  6.0  4.0  2.0   7.0  4.0  4.0  0.0   0.0  0.0  39.0  38.0   \n",
       "3      14.0  3.0  6.0  4.0  2.0   4.0  4.0  4.0  0.0   0.0  0.0  39.0  38.0   \n",
       "4      38.0  3.0  6.0  4.0  2.0  13.0  4.0  4.0  0.0   0.0  0.0  22.0  38.0   \n",
       "...     ...  ...  ...  ...  ...   ...  ...  ...  ...   ...  ...   ...   ...   \n",
       "21942  39.0  3.0  6.0  4.0  0.0   3.0  1.0  4.0  1.0   0.0  0.0  39.0  38.0   \n",
       "21943  23.0  3.0  6.0  4.0  0.0   8.0  1.0  4.0  0.0   0.0  0.0  39.0  38.0   \n",
       "21944   8.0  5.0  6.0  4.0  4.0   3.0  1.0  4.0  1.0   0.0  0.0  14.0  38.0   \n",
       "21945  16.0  3.0  6.0  4.0  0.0   7.0  1.0  4.0  1.0   0.0  0.0  34.0  38.0   \n",
       "21946  33.0  3.0  6.0  4.0  0.0  14.0  1.0  4.0  1.0   0.0  0.0  49.0  38.0   \n",
       "\n",
       "        13  \n",
       "0      0.0  \n",
       "1      1.0  \n",
       "2      1.0  \n",
       "3      0.0  \n",
       "4      0.0  \n",
       "...    ...  \n",
       "21942  0.0  \n",
       "21943  0.0  \n",
       "21944  0.0  \n",
       "21945  0.0  \n",
       "21946  0.0  \n",
       "\n",
       "[21947 rows x 14 columns]"
      ]
     },
     "execution_count": 326,
     "metadata": {},
     "output_type": "execute_result"
    }
   ],
   "source": [
    "encode_df = pd.DataFrame(df_encode)\n",
    "encode_df"
   ]
  },
  {
   "cell_type": "code",
   "execution_count": 327,
   "metadata": {},
   "outputs": [
    {
     "name": "stdout",
     "output_type": "stream",
     "text": [
      "Sesudah di Encode\n"
     ]
    },
    {
     "data": {
      "image/png": "[encoded data removed]",
      "text/plain": [
       "<Figure size 1440x720 with 2 Axes>"
      ]
     },
     "metadata": {
      "needs_background": "light"
     },
     "output_type": "display_data"
    }
   ],
   "source": [
    "plt.figure(figsize=(20,10))\n",
    "sns.heatmap(encode_df.corr(),annot=True)\n",
    "print('Sesudah di Encode')"
   ]
  },
  {
   "cell_type": "markdown",
   "metadata": {},
   "source": [
    "setelah di encode, terlihat bahwa 6 (relationship) dengan 1(workclass) berpengaruh. karena seperti yang saya asumsikan sebelumnya, bahwa banyak laki-laki yang menikah yang bekerja. "
   ]
  },
  {
   "cell_type": "markdown",
   "metadata": {},
   "source": [
    "# Data Preprocessing"
   ]
  },
  {
   "cell_type": "code",
   "execution_count": 328,
   "metadata": {},
   "outputs": [],
   "source": [
    "X = encode_df.drop([3, 7, 9, 10, 12, 13], axis=1)\n",
    "y = encode_df[13]"
   ]
  },
  {
   "cell_type": "code",
   "execution_count": 329,
   "metadata": {},
   "outputs": [],
   "source": [
    "X_train, X_test, y_train, y_test = train_test_split(X,y, test_size=0.2, random_state=150)"
   ]
  },
  {
   "cell_type": "code",
   "execution_count": 330,
   "metadata": {},
   "outputs": [
    {
     "data": {
      "text/plain": [
       "0     0\n",
       "1     0\n",
       "2     0\n",
       "4     0\n",
       "5     0\n",
       "6     0\n",
       "8     0\n",
       "11    0\n",
       "dtype: int64"
      ]
     },
     "execution_count": 330,
     "metadata": {},
     "output_type": "execute_result"
    }
   ],
   "source": [
    "X_train.isnull().sum()"
   ]
  },
  {
   "cell_type": "code",
   "execution_count": 331,
   "metadata": {},
   "outputs": [
    {
     "data": {
      "text/plain": [
       "0     0\n",
       "1     0\n",
       "2     0\n",
       "4     0\n",
       "5     0\n",
       "6     0\n",
       "8     0\n",
       "11    0\n",
       "dtype: int64"
      ]
     },
     "execution_count": 331,
     "metadata": {},
     "output_type": "execute_result"
    }
   ],
   "source": [
    "X_test.isnull().sum()"
   ]
  },
  {
   "cell_type": "code",
   "execution_count": 332,
   "metadata": {},
   "outputs": [
    {
     "data": {
      "text/plain": [
       "0"
      ]
     },
     "execution_count": 332,
     "metadata": {},
     "output_type": "execute_result"
    }
   ],
   "source": [
    "y_train.isnull().sum()"
   ]
  },
  {
   "cell_type": "code",
   "execution_count": 333,
   "metadata": {},
   "outputs": [
    {
     "data": {
      "text/plain": [
       "0"
      ]
     },
     "execution_count": 333,
     "metadata": {},
     "output_type": "execute_result"
    }
   ],
   "source": [
    "y_test.isnull().sum()"
   ]
  },
  {
   "cell_type": "code",
   "execution_count": 334,
   "metadata": {},
   "outputs": [],
   "source": [
    "scaler = MinMaxScaler()\n",
    "X_train_scaler = scaler.fit_transform(X_train)\n",
    "X_test_scaler = scaler.transform(X_test)"
   ]
  },
  {
   "cell_type": "markdown",
   "metadata": {},
   "source": [
    "# Model Definition"
   ]
  },
  {
   "cell_type": "code",
   "execution_count": 335,
   "metadata": {},
   "outputs": [],
   "source": [
    "log_model = LogisticRegression()"
   ]
  },
  {
   "cell_type": "code",
   "execution_count": 336,
   "metadata": {},
   "outputs": [
    {
     "data": {
      "text/plain": [
       "LogisticRegression()"
      ]
     },
     "execution_count": 336,
     "metadata": {},
     "output_type": "execute_result"
    }
   ],
   "source": [
    "log_model.fit(X_train_scaler, y_train)"
   ]
  },
  {
   "cell_type": "markdown",
   "metadata": {},
   "source": [
    "# Model Training & Model Evaluation"
   ]
  },
  {
   "cell_type": "code",
   "execution_count": 337,
   "metadata": {},
   "outputs": [],
   "source": [
    "y_train_pred = log_model.predict(X_train_scaler)\n",
    "y_test_pred = log_model.predict(X_test_scaler)"
   ]
  },
  {
   "cell_type": "code",
   "execution_count": 338,
   "metadata": {},
   "outputs": [
    {
     "name": "stdout",
     "output_type": "stream",
     "text": [
      "Accuracy Score Train :  0.719143361622145\n",
      "Accuracy Score Test :  0.7107061503416856\n"
     ]
    }
   ],
   "source": [
    "print('Accuracy Score Train : ', accuracy_score(y_train,y_train_pred))\n",
    "print('Accuracy Score Test : ',accuracy_score(y_test,y_test_pred))"
   ]
  },
  {
   "cell_type": "markdown",
   "metadata": {},
   "source": [
    "ini berarti bahwa akurasi pada model ini adalah 0.71 atau 71% (tingkat kesalahannya 0.29 atau 29%). "
   ]
  },
  {
   "cell_type": "code",
   "execution_count": 339,
   "metadata": {},
   "outputs": [
    {
     "data": {
      "image/png": "[encoded data removed]",
      "text/plain": [
       "<Figure size 432x288 with 2 Axes>"
      ]
     },
     "metadata": {
      "needs_background": "light"
     },
     "output_type": "display_data"
    }
   ],
   "source": [
    "cm = confusion_matrix(y_test, y_test_pred, labels=log_model.classes_)\n",
    "disp = ConfusionMatrixDisplay(confusion_matrix=cm,display_labels=log_model.classes_)\n",
    "\n",
    "disp.plot()\n",
    "plt.show()"
   ]
  },
  {
   "cell_type": "markdown",
   "metadata": {},
   "source": [
    "berdasarkan tabel ini, prediksi yang benar sebanyak 2668 dan prediksi yang salah sebanyak 918. sedangkan prediksi benar tetapi terdeteksi salah sebanyak 352 dan prediksi salah tetapi terdeteksi benar sebanyak 452"
   ]
  },
  {
   "cell_type": "code",
   "execution_count": 340,
   "metadata": {},
   "outputs": [
    {
     "name": "stdout",
     "output_type": "stream",
     "text": [
      "              precision    recall  f1-score   support\n",
      "\n",
      "         0.0       0.74      0.88      0.81      3020\n",
      "         1.0       0.56      0.33      0.42      1370\n",
      "\n",
      "    accuracy                           0.71      4390\n",
      "   macro avg       0.65      0.61      0.61      4390\n",
      "weighted avg       0.69      0.71      0.69      4390\n",
      "\n"
     ]
    }
   ],
   "source": [
    "print(classification_report(y_test,y_test_pred))"
   ]
  },
  {
   "cell_type": "markdown",
   "metadata": {},
   "source": [
    "berdasarkan hal ini, best value pada model ini adalah 0.42 dan worst valuenya adalah 0.81. berdasarkan hasil percision dan recall tersebut, berarti label ini memang benar termasuk dalam klasifikasi karena nilai precision dan recall menjauhi 0."
   ]
  },
  {
   "cell_type": "code",
   "execution_count": 341,
   "metadata": {},
   "outputs": [],
   "source": [
    "clf = svm.SVC(kernel='linear')"
   ]
  },
  {
   "cell_type": "code",
   "execution_count": 342,
   "metadata": {},
   "outputs": [
    {
     "data": {
      "text/plain": [
       "SVC(kernel='linear')"
      ]
     },
     "execution_count": 342,
     "metadata": {},
     "output_type": "execute_result"
    }
   ],
   "source": [
    "clf.fit(X_train_scaler,y_train)"
   ]
  },
  {
   "cell_type": "code",
   "execution_count": 343,
   "metadata": {},
   "outputs": [],
   "source": [
    "pred_ytrain = clf.predict(X_train_scaler)\n",
    "pred_ytest = clf.predict(X_test_scaler)"
   ]
  },
  {
   "cell_type": "code",
   "execution_count": 344,
   "metadata": {},
   "outputs": [
    {
     "name": "stdout",
     "output_type": "stream",
     "text": [
      "Accuracy Score Train :  0.6923734123141767\n",
      "Accuracy Score Test :  0.6879271070615034\n"
     ]
    }
   ],
   "source": [
    "print('Accuracy Score Train : ',accuracy_score(y_train, pred_ytrain))\n",
    "print('Accuracy Score Test : ',accuracy_score(y_test,pred_ytest))"
   ]
  },
  {
   "cell_type": "markdown",
   "metadata": {},
   "source": [
    "ini berarti bahwa akurasi pada model ini adalah 0.69 atau 69% (tingkat kesalahannya 0.31 atau 31%). "
   ]
  },
  {
   "cell_type": "code",
   "execution_count": 345,
   "metadata": {},
   "outputs": [
    {
     "name": "stdout",
     "output_type": "stream",
     "text": [
      "              precision    recall  f1-score   support\n",
      "\n",
      "         0.0       0.69      1.00      0.82      3020\n",
      "         1.0       0.00      0.00      0.00      1370\n",
      "\n",
      "    accuracy                           0.69      4390\n",
      "   macro avg       0.34      0.50      0.41      4390\n",
      "weighted avg       0.47      0.69      0.56      4390\n",
      "\n"
     ]
    },
    {
     "name": "stderr",
     "output_type": "stream",
     "text": [
      "c:\\Users\\annes\\anaconda3\\lib\\site-packages\\sklearn\\metrics\\_classification.py:1248: UndefinedMetricWarning: Precision and F-score are ill-defined and being set to 0.0 in labels with no predicted samples. Use `zero_division` parameter to control this behavior.\n",
      "  _warn_prf(average, modifier, msg_start, len(result))\n",
      "c:\\Users\\annes\\anaconda3\\lib\\site-packages\\sklearn\\metrics\\_classification.py:1248: UndefinedMetricWarning: Precision and F-score are ill-defined and being set to 0.0 in labels with no predicted samples. Use `zero_division` parameter to control this behavior.\n",
      "  _warn_prf(average, modifier, msg_start, len(result))\n",
      "c:\\Users\\annes\\anaconda3\\lib\\site-packages\\sklearn\\metrics\\_classification.py:1248: UndefinedMetricWarning: Precision and F-score are ill-defined and being set to 0.0 in labels with no predicted samples. Use `zero_division` parameter to control this behavior.\n",
      "  _warn_prf(average, modifier, msg_start, len(result))\n"
     ]
    }
   ],
   "source": [
    "print(classification_report(y_test, pred_ytest))"
   ]
  },
  {
   "cell_type": "markdown",
   "metadata": {},
   "source": [
    "berdasarkan hal ini, best value pada model ini adalah 0.00 dan worst valuenya adalah 0.82. berdasarkan hasil percision tersebut, berarti label ini gagal termasuk dalam klasifikasi karena nilai precision mendekati 0. sedengkan nilai recall tersebut, berarti label ini memang benar termasuk dalam klasifikasi karena nilai precision dan recall menjauhi 0"
   ]
  },
  {
   "cell_type": "markdown",
   "metadata": {},
   "source": [
    "# Model Inference"
   ]
  },
  {
   "cell_type": "code",
   "execution_count": 346,
   "metadata": {},
   "outputs": [],
   "source": [
    "df_inf_encode = encode.transform(df_inf)"
   ]
  },
  {
   "cell_type": "code",
   "execution_count": 347,
   "metadata": {},
   "outputs": [],
   "source": [
    "df_inf_df = pd.DataFrame(df_inf_encode)"
   ]
  },
  {
   "cell_type": "code",
   "execution_count": 348,
   "metadata": {},
   "outputs": [],
   "source": [
    "dfinf = df_inf_df.drop([3, 7, 9, 10, 12, 13], axis=1)"
   ]
  },
  {
   "cell_type": "code",
   "execution_count": 349,
   "metadata": {},
   "outputs": [],
   "source": [
    "df_inf_scaler = scaler.transform(dfinf)"
   ]
  },
  {
   "cell_type": "code",
   "execution_count": 350,
   "metadata": {},
   "outputs": [
    {
     "name": "stdout",
     "output_type": "stream",
     "text": [
      "Model Predict is :  [0. 0. 0. 0. 0. 0. 0. 0. 1. 1. 0. 0. 0. 0. 0. 1. 0. 0. 0. 0.]\n"
     ]
    }
   ],
   "source": [
    "df_inf_pred = log_model.predict(df_inf_scaler)\n",
    "print('Model Predict is : ',df_inf_pred)"
   ]
  },
  {
   "cell_type": "code",
   "execution_count": 351,
   "metadata": {},
   "outputs": [],
   "source": [
    "# membuat dataframe\n",
    "dfinf_scaled_final = pd.DataFrame(df_inf_scaler)\n",
    "dfinf_pred_final = pd.DataFrame(df_inf_pred, columns=['prediksi'])"
   ]
  },
  {
   "cell_type": "code",
   "execution_count": 352,
   "metadata": {},
   "outputs": [],
   "source": [
    "# menggabungkan dataframe\n",
    "dfinf_real = pd.concat([dfinf_scaled_final,dfinf_pred_final], axis=1)"
   ]
  },
  {
   "cell_type": "code",
   "execution_count": 353,
   "metadata": {},
   "outputs": [
    {
     "data": {
      "text/html": [
       "<div>\n",
       "<style scoped>\n",
       "    .dataframe tbody tr th:only-of-type {\n",
       "        vertical-align: middle;\n",
       "    }\n",
       "\n",
       "    .dataframe tbody tr th {\n",
       "        vertical-align: top;\n",
       "    }\n",
       "\n",
       "    .dataframe thead th {\n",
       "        text-align: right;\n",
       "    }\n",
       "</style>\n",
       "<table border=\"1\" class=\"dataframe\">\n",
       "  <thead>\n",
       "    <tr style=\"text-align: right;\">\n",
       "      <th></th>\n",
       "      <th>income_bracket</th>\n",
       "      <th>13</th>\n",
       "      <th>prediksi</th>\n",
       "    </tr>\n",
       "  </thead>\n",
       "  <tbody>\n",
       "    <tr>\n",
       "      <th>0</th>\n",
       "      <td>&lt;=50K</td>\n",
       "      <td>0.0</td>\n",
       "      <td>0.0</td>\n",
       "    </tr>\n",
       "    <tr>\n",
       "      <th>1</th>\n",
       "      <td>&gt;50K</td>\n",
       "      <td>1.0</td>\n",
       "      <td>0.0</td>\n",
       "    </tr>\n",
       "    <tr>\n",
       "      <th>2</th>\n",
       "      <td>&lt;=50K</td>\n",
       "      <td>0.0</td>\n",
       "      <td>0.0</td>\n",
       "    </tr>\n",
       "    <tr>\n",
       "      <th>3</th>\n",
       "      <td>&gt;50K</td>\n",
       "      <td>1.0</td>\n",
       "      <td>0.0</td>\n",
       "    </tr>\n",
       "    <tr>\n",
       "      <th>4</th>\n",
       "      <td>&gt;50K</td>\n",
       "      <td>1.0</td>\n",
       "      <td>0.0</td>\n",
       "    </tr>\n",
       "    <tr>\n",
       "      <th>5</th>\n",
       "      <td>&lt;=50K</td>\n",
       "      <td>0.0</td>\n",
       "      <td>0.0</td>\n",
       "    </tr>\n",
       "    <tr>\n",
       "      <th>6</th>\n",
       "      <td>&lt;=50K</td>\n",
       "      <td>0.0</td>\n",
       "      <td>0.0</td>\n",
       "    </tr>\n",
       "    <tr>\n",
       "      <th>7</th>\n",
       "      <td>&lt;=50K</td>\n",
       "      <td>0.0</td>\n",
       "      <td>0.0</td>\n",
       "    </tr>\n",
       "    <tr>\n",
       "      <th>8</th>\n",
       "      <td>&gt;50K</td>\n",
       "      <td>1.0</td>\n",
       "      <td>1.0</td>\n",
       "    </tr>\n",
       "    <tr>\n",
       "      <th>9</th>\n",
       "      <td>&gt;50K</td>\n",
       "      <td>1.0</td>\n",
       "      <td>1.0</td>\n",
       "    </tr>\n",
       "    <tr>\n",
       "      <th>10</th>\n",
       "      <td>&lt;=50K</td>\n",
       "      <td>0.0</td>\n",
       "      <td>0.0</td>\n",
       "    </tr>\n",
       "    <tr>\n",
       "      <th>11</th>\n",
       "      <td>&lt;=50K</td>\n",
       "      <td>0.0</td>\n",
       "      <td>0.0</td>\n",
       "    </tr>\n",
       "    <tr>\n",
       "      <th>12</th>\n",
       "      <td>&lt;=50K</td>\n",
       "      <td>0.0</td>\n",
       "      <td>0.0</td>\n",
       "    </tr>\n",
       "    <tr>\n",
       "      <th>13</th>\n",
       "      <td>&lt;=50K</td>\n",
       "      <td>0.0</td>\n",
       "      <td>0.0</td>\n",
       "    </tr>\n",
       "    <tr>\n",
       "      <th>14</th>\n",
       "      <td>&gt;50K</td>\n",
       "      <td>1.0</td>\n",
       "      <td>0.0</td>\n",
       "    </tr>\n",
       "    <tr>\n",
       "      <th>15</th>\n",
       "      <td>&lt;=50K</td>\n",
       "      <td>0.0</td>\n",
       "      <td>1.0</td>\n",
       "    </tr>\n",
       "    <tr>\n",
       "      <th>16</th>\n",
       "      <td>&lt;=50K</td>\n",
       "      <td>0.0</td>\n",
       "      <td>0.0</td>\n",
       "    </tr>\n",
       "    <tr>\n",
       "      <th>17</th>\n",
       "      <td>&lt;=50K</td>\n",
       "      <td>0.0</td>\n",
       "      <td>0.0</td>\n",
       "    </tr>\n",
       "    <tr>\n",
       "      <th>18</th>\n",
       "      <td>&lt;=50K</td>\n",
       "      <td>0.0</td>\n",
       "      <td>0.0</td>\n",
       "    </tr>\n",
       "    <tr>\n",
       "      <th>19</th>\n",
       "      <td>&lt;=50K</td>\n",
       "      <td>0.0</td>\n",
       "      <td>0.0</td>\n",
       "    </tr>\n",
       "  </tbody>\n",
       "</table>\n",
       "</div>"
      ],
      "text/plain": [
       "   income_bracket   13  prediksi\n",
       "0           <=50K  0.0       0.0\n",
       "1            >50K  1.0       0.0\n",
       "2           <=50K  0.0       0.0\n",
       "3            >50K  1.0       0.0\n",
       "4            >50K  1.0       0.0\n",
       "5           <=50K  0.0       0.0\n",
       "6           <=50K  0.0       0.0\n",
       "7           <=50K  0.0       0.0\n",
       "8            >50K  1.0       1.0\n",
       "9            >50K  1.0       1.0\n",
       "10          <=50K  0.0       0.0\n",
       "11          <=50K  0.0       0.0\n",
       "12          <=50K  0.0       0.0\n",
       "13          <=50K  0.0       0.0\n",
       "14           >50K  1.0       0.0\n",
       "15          <=50K  0.0       1.0\n",
       "16          <=50K  0.0       0.0\n",
       "17          <=50K  0.0       0.0\n",
       "18          <=50K  0.0       0.0\n",
       "19          <=50K  0.0       0.0"
      ]
     },
     "execution_count": 353,
     "metadata": {},
     "output_type": "execute_result"
    }
   ],
   "source": [
    "dfinf = pd.concat([(df_inf['income_bracket']), (df_inf_df[13]), (dfinf_real['prediksi'])], axis=1)\n",
    "dfinf"
   ]
  },
  {
   "cell_type": "markdown",
   "metadata": {},
   "source": [
    "0 : <=50k (benar)\n",
    "\n",
    "1 : >50K (salah)\n",
    "\n",
    "---\n",
    "\n",
    "berdasarkan hasil prediksi yang telah dibuat, dengan hasil tersebut terlihat bahwa model yang dibuat telah dapat memprediksi dengan akuransi yang cukup baik. berdasarkan sample dari 20 sample hanya 3 sample yang salah. sehingga menjadikan bahwa model tersebut dapat memprediksi dengan cukup baik."
   ]
  },
  {
   "cell_type": "markdown",
   "metadata": {},
   "source": [
    "# Kesimpulan"
   ]
  },
  {
   "cell_type": "markdown",
   "metadata": {},
   "source": [
    "saya mendrop education_num, race, capital_gain, capital_loss, native_country karena menurut saya hal tersebut tidak berpengaruh seseorang dalam hal pendapatan pribadi. capital_gain dan capital_loss berpengaruh terhadap negara dan native_country orang tersebut, sedangkan race, bagi saya tidak berpengaruh dalam hal pendapatan karena menjadikannya 'RASISME'.\n",
    "\n",
    "\n",
    "----\n",
    "dari hasil model prediksi yang telah dibuat, dapat disimpulkan bahwa model logistic regression lebih baik dalam memprediksi daripada model prediksi SVM. dengan tingkat ke akuratan model Logistic sebesar 71% sedangkan model SVM sebesar 69%.\n",
    "\n",
    "\n",
    "----\n",
    "berdasarkan hasil prediksi yang telah dibuat, dengan hasil tersebut terlihat bahwa model yang dibuat telah dapat memprediksi dengan akuransi yang cukup baik. berdasarkan sample dari 20 sample hanya 3 sample yang salah. sehingga menjadikan bahwa model tersebut dapat memprediksi dengan cukup baik."
   ]
  }
 ],
 "metadata": {
  "kernelspec": {
   "display_name": "Python 3.9.7 ('base')",
   "language": "python",
   "name": "python3"
  },
  "language_info": {
   "codemirror_mode": {
    "name": "ipython",
    "version": 3
   },
   "file_extension": ".py",
   "mimetype": "text/x-python",
   "name": "python",
   "nbconvert_exporter": "python",
   "pygments_lexer": "ipython3",
   "version": "3.9.7"
  },
  "orig_nbformat": 4,
  "vscode": {
   "interpreter": {
    "hash": "c00d4dd884f4fefe6b048612f8ef6a22d5077e2309cd354ebf94b1cf270267a1"
   }
  }
 },
 "nbformat": 4,
 "nbformat_minor": 2
}
